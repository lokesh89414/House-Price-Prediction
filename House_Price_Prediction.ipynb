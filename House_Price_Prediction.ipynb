{
  "nbformat": 4,
  "nbformat_minor": 0,
  "metadata": {
    "colab": {
      "provenance": [],
      "authorship_tag": "ABX9TyO5QdenB4kHTj3gbLp/qJjq",
      "include_colab_link": true
    },
    "kernelspec": {
      "name": "python3",
      "display_name": "Python 3"
    },
    "language_info": {
      "name": "python"
    }
  },
  "cells": [
    {
      "cell_type": "markdown",
      "metadata": {
        "id": "view-in-github",
        "colab_type": "text"
      },
      "source": [
        "<a href=\"https://colab.research.google.com/github/lokesh89414/House-Price-Prediction/blob/main/House_Price_Prediction.ipynb\" target=\"_parent\"><img src=\"https://colab.research.google.com/assets/colab-badge.svg\" alt=\"Open In Colab\"/></a>"
      ]
    },
    {
      "cell_type": "code",
      "execution_count": null,
      "metadata": {
        "colab": {
          "base_uri": "https://localhost:8080/"
        },
        "id": "UddtpuvmkwAR",
        "outputId": "b9165d77-3121-4261-a12d-7c2ad909efdd"
      },
      "outputs": [
        {
          "output_type": "stream",
          "name": "stdout",
          "text": [
            "0.51356916242679\n",
            "Enter number of bedrooms: 2\n",
            "Enter number of bathrooms: 2\n",
            "Enter square footage of living space: 1180\n",
            "Enter square footage of lot space: 5670\n",
            "Enter number of floors: 2\n",
            "The predicted price for the house is: $336112.65\n"
          ]
        }
      ],
      "source": [
        "import pandas as pd\n",
        "import numpy as np\n",
        "import matplotlib.pyplot as plt\n",
        "import seaborn as sns\n",
        "from sklearn.model_selection import train_test_split\n",
        "from sklearn.linear_model import LinearRegression\n",
        "from sklearn.metrics import mean_squared_error, r2_score\n",
        "from sklearn.preprocessing import StandardScaler\n",
        "\n",
        "df = pd.read_csv('kc_house_data.csv')\n",
        "\n",
        "X = df[['bedrooms','bathrooms','sqft_living','sqft_lot','floors']]\n",
        "y = df['price']\n",
        "\n",
        "X_train, X_test, y_train, y_test = train_test_split(X, y, test_size=0.2, random_state=3)\n",
        "\n",
        "scaler = StandardScaler()\n",
        "X_train_scaled = scaler.fit_transform(X_train)\n",
        "X_test_scaled = scaler.transform(X_test)\n",
        "\n",
        "model = LinearRegression()\n",
        "model.fit(X_train_scaled, y_train)\n",
        "\n",
        "y_pred = model.predict(X_test_scaled)\n",
        "mse = mean_squared_error(y_test, y_pred)\n",
        "rmse = np.sqrt(mse)\n",
        "r2 = r2_score(y_test, y_pred)\n",
        "print(r2)\n",
        "\n",
        "\n",
        "def predict_price(model, scaler):\n",
        "    bedrooms = float(input(\"Enter number of bedrooms: \"))\n",
        "    bathrooms = float(input(\"Enter number of bathrooms: \"))\n",
        "    sqft_living = float(input(\"Enter square footage of living space: \"))\n",
        "    sqft_lot = float(input(\"Enter square footage of lot space: \"))\n",
        "    floors = float(input(\"Enter number of floors: \"))\n",
        "\n",
        "    user_input = np.array([bedrooms, bathrooms, sqft_living, sqft_lot, floors])\n",
        "    user_input_df = pd.DataFrame([user_input], columns=X.columns)\n",
        "\n",
        "    user_input_scaled = scaler.transform(user_input_df)\n",
        "\n",
        "    predicted_price = model.predict(user_input_scaled)\n",
        "\n",
        "    # Moved the print statement inside the function\n",
        "    print(f'The predicted price for the house is: ${predicted_price[0]:.2f}')\n",
        "\n",
        "predict_price(model, scaler)\n"
      ]
    }
  ]
}